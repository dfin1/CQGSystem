{
 "cells": [
  {
   "cell_type": "code",
   "execution_count": 8,
   "id": "e4736814",
   "metadata": {},
   "outputs": [],
   "source": [
    "import json\n",
    "import pandas as pd\n",
    "import requests\n",
    "import random\n",
    "import math"
   ]
  },
  {
   "cell_type": "markdown",
   "id": "d1e16bd9",
   "metadata": {},
   "source": [
    "## Dataframe construction:"
   ]
  },
  {
   "cell_type": "code",
   "execution_count": 9,
   "id": "a6ca43b6",
   "metadata": {},
   "outputs": [
    {
     "data": {
      "text/plain": [
       "19051"
      ]
     },
     "execution_count": 9,
     "metadata": {},
     "output_type": "execute_result"
    }
   ],
   "source": [
    "#Readin Mimics DatasetCSV\n",
    "df = pd.read_csv('../Data/DF_MIMICS.csv')\n",
    "len(df)"
   ]
  },
  {
   "cell_type": "code",
   "execution_count": 10,
   "id": "cccf360e",
   "metadata": {},
   "outputs": [
    {
     "data": {
      "text/html": [
       "<div>\n",
       "<style scoped>\n",
       "    .dataframe tbody tr th:only-of-type {\n",
       "        vertical-align: middle;\n",
       "    }\n",
       "\n",
       "    .dataframe tbody tr th {\n",
       "        vertical-align: top;\n",
       "    }\n",
       "\n",
       "    .dataframe thead th {\n",
       "        text-align: right;\n",
       "    }\n",
       "</style>\n",
       "<table border=\"1\" class=\"dataframe\">\n",
       "  <thead>\n",
       "    <tr style=\"text-align: right;\">\n",
       "      <th></th>\n",
       "      <th>Unnamed: 0</th>\n",
       "      <th>query</th>\n",
       "      <th>fascets</th>\n",
       "      <th>target</th>\n",
       "      <th>snippet</th>\n",
       "    </tr>\n",
       "  </thead>\n",
       "  <tbody>\n",
       "    <tr>\n",
       "      <th>0</th>\n",
       "      <td>0</td>\n",
       "      <td>rimouski</td>\n",
       "      <td>climate , economy , municipal council , history</td>\n",
       "      <td>What do you want to know about the place?</td>\n",
       "      <td>[\"Rimouski - Wikipedia Rimouski (/\\u02ccr\\u026...</td>\n",
       "    </tr>\n",
       "    <tr>\n",
       "      <th>1</th>\n",
       "      <td>1</td>\n",
       "      <td>ohe</td>\n",
       "      <td>office of higher education , office of health ...</td>\n",
       "      <td>Which \"ohe\" do you mean?</td>\n",
       "      <td>[\"Minnesota Office of Higher Education The Min...</td>\n",
       "    </tr>\n",
       "    <tr>\n",
       "      <th>2</th>\n",
       "      <td>2</td>\n",
       "      <td>ballet folklorico de mexico</td>\n",
       "      <td>ballet folklorico de mexico cd , ballet folklo...</td>\n",
       "      <td>What format are you looking for?</td>\n",
       "      <td>[\"Ballet Folkl\\u00f3rico de M\\u00e9xico de Ama...</td>\n",
       "    </tr>\n",
       "    <tr>\n",
       "      <th>3</th>\n",
       "      <td>3</td>\n",
       "      <td>ubac</td>\n",
       "      <td>ubuntu business advisory and consulting , user...</td>\n",
       "      <td>Which \"ubac\" do you mean?</td>\n",
       "      <td>[\"UBAC \\u2013 Business Advisory &amp; Consulting W...</td>\n",
       "    </tr>\n",
       "    <tr>\n",
       "      <th>4</th>\n",
       "      <td>4</td>\n",
       "      <td>book of ezra</td>\n",
       "      <td>book of ezra summary , who wrote book of ezra ...</td>\n",
       "      <td>What would you like to know about this book?</td>\n",
       "      <td>[\"Book of Ezra - Wikipedia The Book of Ezra is...</td>\n",
       "    </tr>\n",
       "    <tr>\n",
       "      <th>...</th>\n",
       "      <td>...</td>\n",
       "      <td>...</td>\n",
       "      <td>...</td>\n",
       "      <td>...</td>\n",
       "      <td>...</td>\n",
       "    </tr>\n",
       "    <tr>\n",
       "      <th>19046</th>\n",
       "      <td>19046</td>\n",
       "      <td>karnataka legislative council</td>\n",
       "      <td>constituencies , term , history</td>\n",
       "      <td>What do you want to know about karnataka legis...</td>\n",
       "      <td>[\"Karnataka Legislative Council - Wikipedia Th...</td>\n",
       "    </tr>\n",
       "    <tr>\n",
       "      <th>19047</th>\n",
       "      <td>19047</td>\n",
       "      <td>bsps</td>\n",
       "      <td>british show pony society , bachelor of scienc...</td>\n",
       "      <td>Which \"bsps\" do you mean?</td>\n",
       "      <td>[\"British Show Pony Society A Company limited ...</td>\n",
       "    </tr>\n",
       "    <tr>\n",
       "      <th>19048</th>\n",
       "      <td>19048</td>\n",
       "      <td>canon pro-100</td>\n",
       "      <td>manual , driver</td>\n",
       "      <td>What information are you looking for?</td>\n",
       "      <td>[\"Canon U.S.A., Inc. | PIXMA PRO-100 Canon off...</td>\n",
       "    </tr>\n",
       "    <tr>\n",
       "      <th>19049</th>\n",
       "      <td>19049</td>\n",
       "      <td>rv max</td>\n",
       "      <td>shops photo , local map , business information</td>\n",
       "      <td>What do you want to know about this business?</td>\n",
       "      <td>[\"RV Max\\u00ae - Loomis &amp; Rocklin, CA - Where ...</td>\n",
       "    </tr>\n",
       "    <tr>\n",
       "      <th>19050</th>\n",
       "      <td>19050</td>\n",
       "      <td>eapw</td>\n",
       "      <td>eastern auto parts warehouse , exotic aquatic ...</td>\n",
       "      <td>Which \"eapw\" do you mean?</td>\n",
       "      <td>[\"Eastern AutoParts Warehouse - MyPlaceForPart...</td>\n",
       "    </tr>\n",
       "  </tbody>\n",
       "</table>\n",
       "<p>19051 rows × 5 columns</p>\n",
       "</div>"
      ],
      "text/plain": [
       "       Unnamed: 0                          query  \\\n",
       "0               0                       rimouski   \n",
       "1               1                            ohe   \n",
       "2               2    ballet folklorico de mexico   \n",
       "3               3                           ubac   \n",
       "4               4                   book of ezra   \n",
       "...           ...                            ...   \n",
       "19046       19046  karnataka legislative council   \n",
       "19047       19047                           bsps   \n",
       "19048       19048                  canon pro-100   \n",
       "19049       19049                         rv max   \n",
       "19050       19050                           eapw   \n",
       "\n",
       "                                                 fascets  \\\n",
       "0        climate , economy , municipal council , history   \n",
       "1      office of higher education , office of health ...   \n",
       "2      ballet folklorico de mexico cd , ballet folklo...   \n",
       "3      ubuntu business advisory and consulting , user...   \n",
       "4      book of ezra summary , who wrote book of ezra ...   \n",
       "...                                                  ...   \n",
       "19046                    constituencies , term , history   \n",
       "19047  british show pony society , bachelor of scienc...   \n",
       "19048                                    manual , driver   \n",
       "19049     shops photo , local map , business information   \n",
       "19050  eastern auto parts warehouse , exotic aquatic ...   \n",
       "\n",
       "                                                  target  \\\n",
       "0              What do you want to know about the place?   \n",
       "1                               Which \"ohe\" do you mean?   \n",
       "2                       What format are you looking for?   \n",
       "3                              Which \"ubac\" do you mean?   \n",
       "4           What would you like to know about this book?   \n",
       "...                                                  ...   \n",
       "19046  What do you want to know about karnataka legis...   \n",
       "19047                          Which \"bsps\" do you mean?   \n",
       "19048              What information are you looking for?   \n",
       "19049      What do you want to know about this business?   \n",
       "19050                          Which \"eapw\" do you mean?   \n",
       "\n",
       "                                                 snippet  \n",
       "0      [\"Rimouski - Wikipedia Rimouski (/\\u02ccr\\u026...  \n",
       "1      [\"Minnesota Office of Higher Education The Min...  \n",
       "2      [\"Ballet Folkl\\u00f3rico de M\\u00e9xico de Ama...  \n",
       "3      [\"UBAC \\u2013 Business Advisory & Consulting W...  \n",
       "4      [\"Book of Ezra - Wikipedia The Book of Ezra is...  \n",
       "...                                                  ...  \n",
       "19046  [\"Karnataka Legislative Council - Wikipedia Th...  \n",
       "19047  [\"British Show Pony Society A Company limited ...  \n",
       "19048  [\"Canon U.S.A., Inc. | PIXMA PRO-100 Canon off...  \n",
       "19049  [\"RV Max\\u00ae - Loomis & Rocklin, CA - Where ...  \n",
       "19050  [\"Eastern AutoParts Warehouse - MyPlaceForPart...  \n",
       "\n",
       "[19051 rows x 5 columns]"
      ]
     },
     "execution_count": 10,
     "metadata": {},
     "output_type": "execute_result"
    }
   ],
   "source": [
    "df"
   ]
  },
  {
   "cell_type": "code",
   "execution_count": 11,
   "id": "a5602fa7",
   "metadata": {},
   "outputs": [],
   "source": [
    "#Extension to just get the minimal setup [source, target] for Training"
   ]
  },
  {
   "cell_type": "code",
   "execution_count": 12,
   "id": "52a8d7c2",
   "metadata": {
    "scrolled": true
   },
   "outputs": [],
   "source": [
    "data = []\n",
    "\n",
    "for index, row in df.iterrows():\n",
    "    input_query = row['query'] \n",
    "    input_str = input_query + \" | \" + row['fascets'] \n",
    "\n",
    "    data.append([input_str, row['target']])"
   ]
  },
  {
   "cell_type": "code",
   "execution_count": 13,
   "id": "83607240",
   "metadata": {},
   "outputs": [],
   "source": [
    "df = pd.DataFrame( data, columns=[\"source\", \"target\"] )"
   ]
  },
  {
   "cell_type": "code",
   "execution_count": 14,
   "id": "db14f7d5",
   "metadata": {},
   "outputs": [],
   "source": [
    "df.to_csv(\"../Data/DF_MIMICS_compressed.csv\", sep=',', index=False)\n"
   ]
  }
 ],
 "metadata": {
  "kernelspec": {
   "display_name": "Python 3",
   "language": "python",
   "name": "python3"
  },
  "language_info": {
   "codemirror_mode": {
    "name": "ipython",
    "version": 3
   },
   "file_extension": ".py",
   "mimetype": "text/x-python",
   "name": "python",
   "nbconvert_exporter": "python",
   "pygments_lexer": "ipython3",
   "version": "3.9.7"
  }
 },
 "nbformat": 4,
 "nbformat_minor": 5
}
