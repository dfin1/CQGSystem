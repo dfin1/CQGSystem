{
 "cells": [
  {
   "cell_type": "code",
   "execution_count": 1,
   "id": "5f4a7774",
   "metadata": {},
   "outputs": [
    {
     "data": {
      "text/plain": [
       "'\\nThis examples trains a CrossEncoder for the Quora Duplicate Questions Detection task. A CrossEncoder takes a sentence pair\\nas input and outputs a label. Here, it output a continious labels 0...1 to indicate the similarity between the input pair.\\nIt does NOT produce a sentence embedding and does NOT work for individual sentences.\\nUsage:\\npython training_quora_duplicate_questions.py\\n'"
      ]
     },
     "execution_count": 1,
     "metadata": {},
     "output_type": "execute_result"
    }
   ],
   "source": [
    "#source: https://github.com/UKPLab/sentence-transformers/blob/master/examples/training/cross-encoder/training_quora_duplicate_questions.py\n",
    "\n",
    "\"\"\"\n",
    "This examples trains a CrossEncoder for the Quora Duplicate Questions Detection task. A CrossEncoder takes a sentence pair\n",
    "as input and outputs a label. Here, it output a continious labels 0...1 to indicate the similarity between the input pair.\n",
    "It does NOT produce a sentence embedding and does NOT work for individual sentences.\n",
    "Usage:\n",
    "python training_quora_duplicate_questions.py\n",
    "\"\"\""
   ]
  },
  {
   "cell_type": "code",
   "execution_count": 2,
   "id": "1833caec",
   "metadata": {},
   "outputs": [],
   "source": [
    "from torch.utils.data import DataLoader\n",
    "import math\n",
    "from sentence_transformers import LoggingHandler, util\n",
    "from sentence_transformers.cross_encoder import CrossEncoder\n",
    "from sentence_transformers.cross_encoder.evaluation import CEBinaryClassificationEvaluator\n",
    "from sentence_transformers.cross_encoder.evaluation import CECorrelationEvaluator\n",
    "from sentence_transformers.readers import InputExample\n",
    "import logging\n",
    "from datetime import datetime\n",
    "import os\n",
    "import gzip\n",
    "import csv\n",
    "from zipfile import ZipFile"
   ]
  },
  {
   "cell_type": "code",
   "execution_count": 3,
   "id": "8eafb863",
   "metadata": {},
   "outputs": [],
   "source": [
    "#### Just some code to print debug information to stdout\n",
    "logging.basicConfig(format='%(asctime)s - %(message)s',\n",
    "                    datefmt='%Y-%m-%d %H:%M:%S',\n",
    "                    level=logging.INFO,\n",
    "                    handlers=[LoggingHandler()])\n",
    "logger = logging.getLogger(__name__)\n",
    "#### /print debug information to stdout"
   ]
  },
  {
   "cell_type": "code",
   "execution_count": 4,
   "id": "f1a29639",
   "metadata": {},
   "outputs": [],
   "source": [
    "#Inputfile\n",
    "train_dataset_file = '../Data/Crossencoder/DF_Constructed_CrossEncoder_train.csv'\n",
    "test_dataset_file = '../Data/Crossencoder/DF_Constructed_CrossEncoder_test.csv'"
   ]
  },
  {
   "cell_type": "code",
   "execution_count": 5,
   "id": "4e63a911",
   "metadata": {},
   "outputs": [
    {
     "name": "stdout",
     "output_type": "stream",
     "text": [
      "2022-06-18 14:54:09 - Read train dataset\n"
     ]
    }
   ],
   "source": [
    "# Read the quora dataset split for classification\n",
    "logger.info(\"Read train dataset\")\n",
    "train_samples = []\n",
    "\n",
    "with open(test_dataset_file, 'r', encoding='utf8') as fIn:\n",
    "    reader = csv.reader(fIn, delimiter=',', quotechar='\"')\n",
    "    next(reader, None)\n",
    "    for row in reader:\n",
    "        try:\n",
    "            train_samples.append(InputExample(texts=[row[1], row[2]], label=int(row[3])))\n",
    "        except:\n",
    "            print(row)\n",
    "                "
   ]
  },
  {
   "cell_type": "code",
   "execution_count": 6,
   "id": "40db8d37",
   "metadata": {},
   "outputs": [
    {
     "name": "stdout",
     "output_type": "stream",
     "text": [
      "2022-06-18 14:54:09 - Read dev dataset\n",
      "['', 'clariQ', 'fascet', 'isRelated']\n"
     ]
    }
   ],
   "source": [
    "# Read the quora dataset split for classification\n",
    "logger.info(\"Read dev dataset\")\n",
    "dev_samples = []\n",
    "\n",
    "with open(train_dataset_file, 'r', encoding='utf8') as fIn:\n",
    "    reader = csv.reader(fIn, delimiter=',', quotechar='\"')\n",
    "    for row in reader:\n",
    "        try:\n",
    "            dev_samples.append(InputExample(texts=[row[1], row[2]], label=int(row[3])))\n",
    "        except:\n",
    "            print(row)\n",
    "                "
   ]
  },
  {
   "cell_type": "code",
   "execution_count": 7,
   "id": "6d5f04fa",
   "metadata": {},
   "outputs": [],
   "source": [
    "#Configuration\n",
    "train_batch_size = 64\n",
    "num_epochs = 10\n",
    "model_save_path = '../Models/training_F0_7-'+datetime.now().strftime(\"%Y-%m-%d_%H-%M-%S\")\n",
    "\n"
   ]
  },
  {
   "cell_type": "code",
   "execution_count": 8,
   "id": "a722c0a9",
   "metadata": {},
   "outputs": [
    {
     "name": "stderr",
     "output_type": "stream",
     "text": [
      "Some weights of the model checkpoint at roberta-base were not used when initializing RobertaForSequenceClassification: ['lm_head.layer_norm.weight', 'roberta.pooler.dense.weight', 'lm_head.decoder.weight', 'lm_head.bias', 'lm_head.dense.bias', 'lm_head.dense.weight', 'lm_head.layer_norm.bias', 'roberta.pooler.dense.bias']\n",
      "- This IS expected if you are initializing RobertaForSequenceClassification from the checkpoint of a model trained on another task or with another architecture (e.g. initializing a BertForSequenceClassification model from a BertForPreTraining model).\n",
      "- This IS NOT expected if you are initializing RobertaForSequenceClassification from the checkpoint of a model that you expect to be exactly identical (initializing a BertForSequenceClassification model from a BertForSequenceClassification model).\n",
      "Some weights of RobertaForSequenceClassification were not initialized from the model checkpoint at roberta-base and are newly initialized: ['classifier.dense.weight', 'classifier.out_proj.weight', 'classifier.dense.bias', 'classifier.out_proj.bias']\n",
      "You should probably TRAIN this model on a down-stream task to be able to use it for predictions and inference.\n"
     ]
    },
    {
     "name": "stdout",
     "output_type": "stream",
     "text": [
      "2022-06-18 14:54:18 - Use pytorch device: cpu\n"
     ]
    }
   ],
   "source": [
    "#We use distilroberta-base with a single label, i.e., it will output a value between 0 and 1 indicating the similarity of the two questions\n",
    "model = CrossEncoder('roberta-base', num_labels=1) #distilroberta-base try roberta-base\n"
   ]
  },
  {
   "cell_type": "code",
   "execution_count": 9,
   "id": "6babdc31",
   "metadata": {},
   "outputs": [],
   "source": [
    "# We wrap train_samples (which is a List[InputExample]) into a pytorch DataLoader\n",
    "train_dataloader = DataLoader(train_samples, shuffle=True, batch_size=train_batch_size)"
   ]
  },
  {
   "cell_type": "code",
   "execution_count": 10,
   "id": "a529314c",
   "metadata": {},
   "outputs": [],
   "source": [
    "# We add an evaluator, which evaluates the performance during training\n",
    "evaluator = CEBinaryClassificationEvaluator.from_input_examples(dev_samples, name='Quora-dev')"
   ]
  },
  {
   "cell_type": "code",
   "execution_count": 11,
   "id": "0318d6c8",
   "metadata": {},
   "outputs": [
    {
     "name": "stdout",
     "output_type": "stream",
     "text": [
      "2022-06-18 14:54:18 - Warmup-steps: 176\n"
     ]
    }
   ],
   "source": [
    "# Configure the training\n",
    "warmup_steps = math.ceil(len(train_dataloader) * num_epochs * 0.1) #10% of train data for warm-up\n",
    "logger.info(\"Warmup-steps: {}\".format(warmup_steps))"
   ]
  },
  {
   "cell_type": "code",
   "execution_count": 12,
   "id": "4dfde654",
   "metadata": {},
   "outputs": [
    {
     "data": {
      "application/vnd.jupyter.widget-view+json": {
       "model_id": "8a1eace25cf54a588f53d18a122b807e",
       "version_major": 2,
       "version_minor": 0
      },
      "text/plain": [
       "Epoch:   0%|          | 0/10 [00:00<?, ?it/s]"
      ]
     },
     "metadata": {},
     "output_type": "display_data"
    },
    {
     "data": {
      "application/vnd.jupyter.widget-view+json": {
       "model_id": "6c66a3bea48243c78900d51ad9067326",
       "version_major": 2,
       "version_minor": 0
      },
      "text/plain": [
       "Iteration:   0%|          | 0/176 [00:00<?, ?it/s]"
      ]
     },
     "metadata": {},
     "output_type": "display_data"
    },
    {
     "name": "stdout",
     "output_type": "stream",
     "text": [
      "2022-06-18 16:06:08 - CEBinaryClassificationEvaluator: Evaluating the model on Quora-dev dataset after epoch 0:\n",
      "2022-06-18 16:26:44 - Accuracy:           83.44\t(Threshold: 0.7870)\n",
      "2022-06-18 16:26:44 - F1:                 84.25\t(Threshold: 0.7731)\n",
      "2022-06-18 16:26:44 - Precision:          80.02\n",
      "2022-06-18 16:26:44 - Recall:             88.95\n",
      "2022-06-18 16:26:44 - Average Precision:  90.27\n",
      "\n",
      "2022-06-18 16:26:44 - Save model to output/training_F0_7-2022-06-18_14-54-09\n"
     ]
    },
    {
     "data": {
      "application/vnd.jupyter.widget-view+json": {
       "model_id": "047ff7b305fc409880dc45653e456a42",
       "version_major": 2,
       "version_minor": 0
      },
      "text/plain": [
       "Iteration:   0%|          | 0/176 [00:00<?, ?it/s]"
      ]
     },
     "metadata": {},
     "output_type": "display_data"
    },
    {
     "name": "stdout",
     "output_type": "stream",
     "text": [
      "2022-06-18 17:35:19 - CEBinaryClassificationEvaluator: Evaluating the model on Quora-dev dataset after epoch 1:\n",
      "2022-06-18 17:55:52 - Accuracy:           94.10\t(Threshold: 0.7497)\n",
      "2022-06-18 17:55:52 - F1:                 94.22\t(Threshold: 0.7481)\n",
      "2022-06-18 17:55:52 - Precision:          92.57\n",
      "2022-06-18 17:55:52 - Recall:             95.92\n",
      "2022-06-18 17:55:52 - Average Precision:  98.01\n",
      "\n",
      "2022-06-18 17:55:52 - Save model to output/training_F0_7-2022-06-18_14-54-09\n"
     ]
    },
    {
     "data": {
      "application/vnd.jupyter.widget-view+json": {
       "model_id": "d5916e5dc19e40e6a863c94dc65ba9d0",
       "version_major": 2,
       "version_minor": 0
      },
      "text/plain": [
       "Iteration:   0%|          | 0/176 [00:00<?, ?it/s]"
      ]
     },
     "metadata": {},
     "output_type": "display_data"
    },
    {
     "name": "stdout",
     "output_type": "stream",
     "text": [
      "2022-06-18 18:55:54 - CEBinaryClassificationEvaluator: Evaluating the model on Quora-dev dataset after epoch 2:\n",
      "2022-06-18 19:13:42 - Accuracy:           96.93\t(Threshold: 0.7894)\n",
      "2022-06-18 19:13:42 - F1:                 96.96\t(Threshold: 0.7809)\n",
      "2022-06-18 19:13:42 - Precision:          96.31\n",
      "2022-06-18 19:13:42 - Recall:             97.61\n",
      "2022-06-18 19:13:42 - Average Precision:  99.24\n",
      "\n",
      "2022-06-18 19:13:42 - Save model to output/training_F0_7-2022-06-18_14-54-09\n"
     ]
    },
    {
     "data": {
      "application/vnd.jupyter.widget-view+json": {
       "model_id": "c222454e0b91491cb086ba8335890e9e",
       "version_major": 2,
       "version_minor": 0
      },
      "text/plain": [
       "Iteration:   0%|          | 0/176 [00:00<?, ?it/s]"
      ]
     },
     "metadata": {},
     "output_type": "display_data"
    },
    {
     "name": "stdout",
     "output_type": "stream",
     "text": [
      "2022-06-18 20:06:55 - CEBinaryClassificationEvaluator: Evaluating the model on Quora-dev dataset after epoch 3:\n",
      "2022-06-18 20:23:09 - Accuracy:           97.92\t(Threshold: 0.9128)\n",
      "2022-06-18 20:23:09 - F1:                 97.93\t(Threshold: 0.9124)\n",
      "2022-06-18 20:23:09 - Precision:          97.44\n",
      "2022-06-18 20:23:09 - Recall:             98.43\n",
      "2022-06-18 20:23:09 - Average Precision:  99.46\n",
      "\n",
      "2022-06-18 20:23:09 - Save model to output/training_F0_7-2022-06-18_14-54-09\n"
     ]
    },
    {
     "data": {
      "application/vnd.jupyter.widget-view+json": {
       "model_id": "1fed2111d15443ac9fe59da210bddb53",
       "version_major": 2,
       "version_minor": 0
      },
      "text/plain": [
       "Iteration:   0%|          | 0/176 [00:00<?, ?it/s]"
      ]
     },
     "metadata": {},
     "output_type": "display_data"
    },
    {
     "name": "stdout",
     "output_type": "stream",
     "text": [
      "2022-06-18 21:13:03 - CEBinaryClassificationEvaluator: Evaluating the model on Quora-dev dataset after epoch 4:\n",
      "2022-06-18 21:27:56 - Accuracy:           98.86\t(Threshold: 0.7627)\n",
      "2022-06-18 21:27:56 - F1:                 98.87\t(Threshold: 0.7627)\n",
      "2022-06-18 21:27:56 - Precision:          98.29\n",
      "2022-06-18 21:27:56 - Recall:             99.45\n",
      "2022-06-18 21:27:56 - Average Precision:  99.80\n",
      "\n",
      "2022-06-18 21:27:56 - Save model to output/training_F0_7-2022-06-18_14-54-09\n"
     ]
    },
    {
     "data": {
      "application/vnd.jupyter.widget-view+json": {
       "model_id": "7bd420a939564f6a9e5f62fd79ec4a93",
       "version_major": 2,
       "version_minor": 0
      },
      "text/plain": [
       "Iteration:   0%|          | 0/176 [00:00<?, ?it/s]"
      ]
     },
     "metadata": {},
     "output_type": "display_data"
    },
    {
     "name": "stdout",
     "output_type": "stream",
     "text": [
      "2022-06-18 22:15:47 - CEBinaryClassificationEvaluator: Evaluating the model on Quora-dev dataset after epoch 5:\n",
      "2022-06-18 22:29:47 - Accuracy:           99.03\t(Threshold: 0.8793)\n",
      "2022-06-18 22:29:47 - F1:                 99.03\t(Threshold: 0.8093)\n",
      "2022-06-18 22:29:47 - Precision:          98.50\n",
      "2022-06-18 22:29:47 - Recall:             99.57\n",
      "2022-06-18 22:29:47 - Average Precision:  99.83\n",
      "\n",
      "2022-06-18 22:29:47 - Save model to output/training_F0_7-2022-06-18_14-54-09\n"
     ]
    },
    {
     "data": {
      "application/vnd.jupyter.widget-view+json": {
       "model_id": "9cb3f3c20c1d40dc9d1aa3b1d47c3991",
       "version_major": 2,
       "version_minor": 0
      },
      "text/plain": [
       "Iteration:   0%|          | 0/176 [00:00<?, ?it/s]"
      ]
     },
     "metadata": {},
     "output_type": "display_data"
    },
    {
     "name": "stdout",
     "output_type": "stream",
     "text": [
      "2022-06-18 23:09:12 - CEBinaryClassificationEvaluator: Evaluating the model on Quora-dev dataset after epoch 6:\n",
      "2022-06-18 23:19:40 - Accuracy:           99.38\t(Threshold: 0.8886)\n",
      "2022-06-18 23:19:40 - F1:                 99.39\t(Threshold: 0.8544)\n",
      "2022-06-18 23:19:40 - Precision:          99.06\n",
      "2022-06-18 23:19:40 - Recall:             99.71\n",
      "2022-06-18 23:19:40 - Average Precision:  99.91\n",
      "\n",
      "2022-06-18 23:19:40 - Save model to output/training_F0_7-2022-06-18_14-54-09\n"
     ]
    },
    {
     "data": {
      "application/vnd.jupyter.widget-view+json": {
       "model_id": "47c0d45bd9104c239ea6a60c7b22424d",
       "version_major": 2,
       "version_minor": 0
      },
      "text/plain": [
       "Iteration:   0%|          | 0/176 [00:00<?, ?it/s]"
      ]
     },
     "metadata": {},
     "output_type": "display_data"
    },
    {
     "name": "stdout",
     "output_type": "stream",
     "text": [
      "2022-06-18 23:54:11 - CEBinaryClassificationEvaluator: Evaluating the model on Quora-dev dataset after epoch 7:\n",
      "2022-06-19 00:02:50 - Accuracy:           99.46\t(Threshold: 0.7117)\n",
      "2022-06-19 00:02:50 - F1:                 99.46\t(Threshold: 0.7117)\n",
      "2022-06-19 00:02:50 - Precision:          99.08\n",
      "2022-06-19 00:02:50 - Recall:             99.84\n",
      "2022-06-19 00:02:50 - Average Precision:  99.93\n",
      "\n",
      "2022-06-19 00:02:50 - Save model to output/training_F0_7-2022-06-18_14-54-09\n"
     ]
    },
    {
     "data": {
      "application/vnd.jupyter.widget-view+json": {
       "model_id": "605a59e5f9fc4132b7c239a2d83fcb3d",
       "version_major": 2,
       "version_minor": 0
      },
      "text/plain": [
       "Iteration:   0%|          | 0/176 [00:00<?, ?it/s]"
      ]
     },
     "metadata": {},
     "output_type": "display_data"
    },
    {
     "name": "stdout",
     "output_type": "stream",
     "text": [
      "2022-06-19 00:28:15 - CEBinaryClassificationEvaluator: Evaluating the model on Quora-dev dataset after epoch 8:\n",
      "2022-06-19 00:35:41 - Accuracy:           99.55\t(Threshold: 0.9466)\n",
      "2022-06-19 00:35:41 - F1:                 99.56\t(Threshold: 0.9466)\n",
      "2022-06-19 00:35:41 - Precision:          99.36\n",
      "2022-06-19 00:35:41 - Recall:             99.75\n",
      "2022-06-19 00:35:41 - Average Precision:  99.96\n",
      "\n",
      "2022-06-19 00:35:41 - Save model to output/training_F0_7-2022-06-18_14-54-09\n"
     ]
    },
    {
     "data": {
      "application/vnd.jupyter.widget-view+json": {
       "model_id": "0041656dfe6749acaa6837683482342b",
       "version_major": 2,
       "version_minor": 0
      },
      "text/plain": [
       "Iteration:   0%|          | 0/176 [00:00<?, ?it/s]"
      ]
     },
     "metadata": {},
     "output_type": "display_data"
    },
    {
     "name": "stdout",
     "output_type": "stream",
     "text": [
      "2022-06-19 01:01:25 - CEBinaryClassificationEvaluator: Evaluating the model on Quora-dev dataset after epoch 9:\n",
      "2022-06-19 01:08:56 - Accuracy:           99.55\t(Threshold: 0.5762)\n",
      "2022-06-19 01:08:56 - F1:                 99.56\t(Threshold: 0.5762)\n",
      "2022-06-19 01:08:56 - Precision:          99.15\n",
      "2022-06-19 01:08:56 - Recall:             99.96\n",
      "2022-06-19 01:08:56 - Average Precision:  99.95\n",
      "\n"
     ]
    }
   ],
   "source": [
    "# Train the model\n",
    "model.fit(train_dataloader=train_dataloader,\n",
    "          evaluator=evaluator,\n",
    "          epochs=num_epochs,\n",
    "          evaluation_steps=5000,\n",
    "          warmup_steps=warmup_steps,\n",
    "          output_path=model_save_path)"
   ]
  },
  {
   "cell_type": "code",
   "execution_count": 13,
   "id": "55487807",
   "metadata": {},
   "outputs": [
    {
     "name": "stdout",
     "output_type": "stream",
     "text": [
      "2022-06-19 01:08:57 - CEBinaryClassificationEvaluator: Evaluating the model on Quora-dev dataset:\n",
      "2022-06-19 01:16:23 - Accuracy:           99.55\t(Threshold: 0.5762)\n",
      "2022-06-19 01:16:23 - F1:                 99.56\t(Threshold: 0.5762)\n",
      "2022-06-19 01:16:23 - Precision:          99.15\n",
      "2022-06-19 01:16:23 - Recall:             99.96\n",
      "2022-06-19 01:16:23 - Average Precision:  99.95\n",
      "\n"
     ]
    },
    {
     "data": {
      "text/plain": [
       "0.9995474561726904"
      ]
     },
     "execution_count": 13,
     "metadata": {},
     "output_type": "execute_result"
    }
   ],
   "source": [
    "#Run CEBinaryClassificationEvaluator\n",
    "evaluator(model)"
   ]
  },
  {
   "cell_type": "code",
   "execution_count": 14,
   "id": "d51f81a8",
   "metadata": {},
   "outputs": [
    {
     "name": "stdout",
     "output_type": "stream",
     "text": [
      "2022-06-19 01:16:23 - CECorrelationEvaluator: Evaluating the model on sts-test dataset:\n",
      "2022-06-19 01:23:50 - Correlation:\tPearson: 0.9917\tSpearman: 0.8653\n"
     ]
    },
    {
     "data": {
      "text/plain": [
       "0.8653128212971559"
      ]
     },
     "execution_count": 14,
     "metadata": {},
     "output_type": "execute_result"
    }
   ],
   "source": [
    "#Run CECorrelationEvaluator\n",
    "evaluator = CECorrelationEvaluator.from_input_examples(dev_samples, name='sts-test')\n",
    "evaluator(model)"
   ]
  },
  {
   "cell_type": "code",
   "execution_count": null,
   "id": "2125a5ed",
   "metadata": {},
   "outputs": [],
   "source": []
  }
 ],
 "metadata": {
  "kernelspec": {
   "display_name": "Python 3",
   "language": "python",
   "name": "python3"
  },
  "language_info": {
   "codemirror_mode": {
    "name": "ipython",
    "version": 3
   },
   "file_extension": ".py",
   "mimetype": "text/x-python",
   "name": "python",
   "nbconvert_exporter": "python",
   "pygments_lexer": "ipython3",
   "version": "3.9.7"
  }
 },
 "nbformat": 4,
 "nbformat_minor": 5
}
